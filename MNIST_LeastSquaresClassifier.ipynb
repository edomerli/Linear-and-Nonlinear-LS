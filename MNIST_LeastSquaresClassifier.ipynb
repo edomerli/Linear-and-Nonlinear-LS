{
 "cells": [
  {
   "cell_type": "markdown",
   "metadata": {},
   "source": [
    "# Least Squares Based Supervised Classification"
   ]
  },
  {
   "cell_type": "markdown",
   "metadata": {},
   "source": [
    "## Proof of correctness"
   ]
  },
  {
   "cell_type": "markdown",
   "metadata": {},
   "source": [
    "$\n",
    "\\def\\im{\\implies}\n",
    "\\def\\R{{\\rm I\\!R}}\n",
    "$\n",
    "\n",
    "\\begin{align}\n",
    "A^Hy = A^HA\\hat{x}&\\im A^Hy - A^HA\\hat{x} = 0 \\\\\n",
    "    &\\im A^H(y - A\\hat{x}) = 0 \\\\\n",
    "    &\\im a_i^H(y - A\\hat{x}) = 0 \\quad \\forall i=1, ..., n \\\\\n",
    "    &\\im \\langle y - A\\hat{x}, a_i\\rangle = 0 \\quad \\forall i = 1, ..., n \\\\\n",
    "    &\\im y - A\\hat{x} \\ \\bot \\ a_i \\quad \\forall i = 1, ..., n \\\\\n",
    "    &\\im y - A\\hat{x} \\ \\bot \\ span\\{a_1, ..., a_n\\} = R(A) \\\\\n",
    "    &\\im A\\hat{x} \\textit{ is the projection of y into R(A)} \\\\\n",
    "    &\\im \\hat{x} \\textit{ is the solution to } \\min_{x} \\|y-Ax\\|_2^2 &&\\textit{(Proven in class)} \\\\\n",
    "    &\\im \\hat{x} \\textit{ is the solution to } \\min_x \\|y-Ax\\|_2 &&\\textit{(Since } \\sqrt{\\cdot} \\textit{ is a strictly decreasing function)}\\\\\n",
    "\\end{align}\n"
   ]
  },
  {
   "cell_type": "markdown",
   "metadata": {},
   "source": [
    "(a) Will prove that $ A^Hy = A^HAx $ has always a solution by proving that $R(A^H) = R(A^HA)$, hence:\n",
    "\n",
    "$$\n",
    "    \\forall y \\ \\exists x \\ s.t. A^Hy = A^HAx\n",
    "$$\n",
    "\n",
    "Let $ \\{b_1, ..., b_k\\} $ be a basis of $R(A^HA)$\n",
    "\n",
    "\\begin{align}\n",
    "R(A) \\subseteq \\R^m &\\im R(A^HA) = \\{A^Hz \\mid z \\in R(A)\\} \\ \\subseteq \\  \\{A^Hy \\mid y \\in \\R^m\\} = R(A^H) \\\\\n",
    "    &\\im b_1, ..., b_k \\in R(A^H) \\\\\n",
    "    &\\im b_1, ..., b_k \\ \\textit{linearly independent vectors in R(A^H)} &&(dim(R(A^H)) = dim(R(A^HA)) = k)\\\\\n",
    "    &\\im b_1, ..., b_k \\ \\textit{basis of} \\ R(A^H) \\\\\n",
    "    &\\im R(A^HA) = span\\{b_1, ..., b_k\\} = R(A^H)\n",
    "\\end{align}"
   ]
  },
  {
   "cell_type": "markdown",
   "metadata": {},
   "source": [
    "(b)\n",
    "\n",
    "Case 1: $rank(A) = n \\im rank(A^HA) = n \\im A^Hy = A^HAx \\ \\text{has 1 unique solution}$\n",
    "\n",
    "Case 2: $rank(A) < n \\im rank(A^HA) < n \\im A^Hy = A^HAx \\ \\text{has} \\ \\infty \\ \\text{solutions} \\\\\n",
    "        (\\text{because since } N(A^HA) \\neq \\{0\\}, \\ A^Hy = A^HAx \\im \\forall \\alpha \\in \\R. \\ A^Hy = A^HA(x + \\alpha z) \\text{ with } z \\in N(A))$"
   ]
  },
  {
   "cell_type": "markdown",
   "metadata": {},
   "source": [
    "## Least Squares Classifier"
   ]
  },
  {
   "cell_type": "markdown",
   "metadata": {},
   "source": [
    "### (a) Implementation"
   ]
  },
  {
   "cell_type": "code",
   "execution_count": 1,
   "metadata": {},
   "outputs": [],
   "source": [
    "import numpy as np"
   ]
  },
  {
   "cell_type": "code",
   "execution_count": 2,
   "metadata": {},
   "outputs": [],
   "source": [
    "'''\n",
    "LS regression model\n",
    "    :param A: matrix in R^{mxn}\n",
    "    :param y: vector in R^m\n",
    "    :return: x that minimizes (L2-Norm(y - A*x))^2\n",
    "'''\n",
    "def LS_regression(A, y):\n",
    "    square_A = A.conj().T @ A\n",
    "    u, s, vh = np.linalg.svd(square_A)\n",
    "    s = s[s >= 1.0e-3]\n",
    "    r = s.size\n",
    "    u = u[:, :r]\n",
    "    vh = vh[:r]\n",
    "    x = (vh.conj().T * np.reciprocal(s)) @ u.conj().T @ A.conj().T @ y\n",
    "    return np.squeeze(x)\n",
    "\n",
    "def sign(n):\n",
    "    if n >= 0:\n",
    "        return 1\n",
    "    else:\n",
    "        return -1\n",
    "    \n",
    "def ones_padding(X):\n",
    "    m, n = X.shape\n",
    "    ones = np.ones((m, 1))\n",
    "    X_padded = np.hstack((X, ones))\n",
    "    return X_padded"
   ]
  },
  {
   "cell_type": "code",
   "execution_count": 3,
   "metadata": {},
   "outputs": [],
   "source": [
    "'''\n",
    "Binary classifier\n",
    "    :param X: matrix in R^{Nxm}, every row is the feature vector x^(i) in R^m\n",
    "    :param y: vector in R^m, every entry is the label y^(i) for data point i, y^(i) in {-1, 1}\n",
    "    :param pad: wether to pad X with a 1s column or not, default is True\n",
    "    :return: f_hat, function that using (beta, alpha) that minimize (L2-Norm(y - (X|1) * (beta,alpha)))^2\n",
    "             predicts a class in {-1, 1} for a given input x\n",
    "'''\n",
    "def binary_classifier(X, y, pad=True):\n",
    "    X_one = ones_padding(X) if pad else np.copy(X)\n",
    "    beta_alpha = LS_regression(X_one, y)\n",
    "    \n",
    "    def f_hat(x):\n",
    "        if pad:\n",
    "            return sign(beta_alpha[:-1].T @ x - beta_alpha[-1])\n",
    "        else:\n",
    "            return sign(beta_alpha.T @ x)\n",
    "    \n",
    "    return f_hat"
   ]
  },
  {
   "cell_type": "code",
   "execution_count": 4,
   "metadata": {},
   "outputs": [],
   "source": [
    "'''\n",
    "Multi-Class One-versus-All classifier\n",
    "    :param X: matrix in R^{Nxm}, every row is the feature vector x^(i) in R^m\n",
    "    :param y: vector in R^m, every entry is the label y^(i) for data point i, y^(i) in {0, ..., k-1}\n",
    "    :param k: the number of classes\n",
    "    :param pad: wether to pad X with a 1s column or not, default is True\n",
    "    :return: f_hat, function that using (beta, alpha) that minimize (L2-Norm(y - (X|1) * (beta,alpha)))^2\n",
    "             predicts a class in {0, ..., k-1} for a given input x\n",
    "'''\n",
    "def one_vs_all_classifier(X, y, k, pad=True):\n",
    "    N, m = X.shape\n",
    "    X_one = ones_padding(X) if pad else np.copy(X)\n",
    "    Beta_Alpha = np.zeros((k, m+(1 if pad else 0)))\n",
    "    \n",
    "    for i in range(k):\n",
    "        y_k = np.where(y == i, 1, -1)\n",
    "        Beta_Alpha[i] = LS_regression(X_one, y_k)\n",
    "    \n",
    "    def f_hat(x):\n",
    "        if pad:\n",
    "            return np.argmax(Beta_Alpha[:, :-1] @ x + Beta_Alpha[:, -1])\n",
    "        else:\n",
    "            return np.argmax(Beta_Alpha @ x)\n",
    "    \n",
    "    return f_hat"
   ]
  },
  {
   "cell_type": "code",
   "execution_count": 5,
   "metadata": {},
   "outputs": [],
   "source": [
    "'''\n",
    "Multi-Class One-versus-One classifier\n",
    "    :param X: matrix in R^{Nxm}, every row is the feature vector x^(i) in R^m\n",
    "    :param y: vector in R^m, every entry is the label y^(i) for data point i, y^(i) in {0, ..., k-1}\n",
    "    :param k: the number of classes\n",
    "    :return: f_hat, function that using (beta, alpha) that minimize (L2-Norm(y - (X|1) * (beta,alpha)))^2\n",
    "             predicts a class in {0, ..., k-1} for a given input x\n",
    "'''\n",
    "def one_vs_one_classifier(X, y, k, pad=True):\n",
    "    Bin_classifiers = []\n",
    "    \n",
    "    for i in range(k):\n",
    "        for j in range(i+1, k):\n",
    "            filt = np.squeeze(np.logical_or(y == i, y == j))\n",
    "            X_ij = X[filt]\n",
    "            y_ij = y[filt]\n",
    "            y_ij = np.where(y_ij == i, -1, 1)\n",
    "            Bin_classifiers.append(binary_classifier(X_ij, y_ij, pad))\n",
    "    \n",
    "    def f_hat(x):\n",
    "        votes = np.zeros(k)\n",
    "        z = 0\n",
    "        for i in range(k):\n",
    "            for j in range(i+1, k):\n",
    "                vote = Bin_classifiers[z](x)\n",
    "                votes[i if vote == -1 else j] += 1\n",
    "                z += 1\n",
    "        return np.argmax(votes)\n",
    "    \n",
    "    return f_hat"
   ]
  },
  {
   "cell_type": "markdown",
   "metadata": {},
   "source": [
    "### (b) Training and evaluation"
   ]
  },
  {
   "cell_type": "code",
   "execution_count": 6,
   "metadata": {},
   "outputs": [],
   "source": [
    "import scipy.io as sio\n",
    "\n",
    "mnist = sio.loadmat('mnist.mat')"
   ]
  },
  {
   "cell_type": "code",
   "execution_count": 7,
   "metadata": {},
   "outputs": [],
   "source": [
    "testX = (mnist['testX'].astype('float')) / 255.0\n",
    "testY = mnist['testY'].T.astype('float')\n",
    "trainX = (mnist['trainX'].astype('float')) / 255.0\n",
    "trainY = mnist['trainY'].T.astype('float')"
   ]
  },
  {
   "cell_type": "code",
   "execution_count": 8,
   "metadata": {},
   "outputs": [
    {
     "name": "stdout",
     "output_type": "stream",
     "text": [
      "(10000, 784) (10000, 1) (60000, 784) (60000, 1)\n"
     ]
    }
   ],
   "source": [
    "print(testX.shape, testY.shape, trainX.shape, trainY.shape)"
   ]
  },
  {
   "cell_type": "code",
   "execution_count": 9,
   "metadata": {},
   "outputs": [],
   "source": [
    "K = 10"
   ]
  },
  {
   "cell_type": "code",
   "execution_count": 10,
   "metadata": {},
   "outputs": [],
   "source": [
    "f_hat_onevall = one_vs_all_classifier(trainX, trainY, K)"
   ]
  },
  {
   "cell_type": "code",
   "execution_count": 11,
   "metadata": {},
   "outputs": [],
   "source": [
    "f_hat_onevone = one_vs_one_classifier(trainX, trainY, K)"
   ]
  },
  {
   "cell_type": "code",
   "execution_count": 12,
   "metadata": {},
   "outputs": [],
   "source": [
    "def evaluate(f_hat, data, labels, k):\n",
    "    results = np.apply_along_axis(f_hat, 1, data)\n",
    "    l = np.squeeze(labels)\n",
    "    print('Error rate: ', np.sum(results != l)/data.shape[0])\n",
    "    \n",
    "    conf_matrix = np.zeros((k, k), dtype=int)\n",
    "    for i in range(results.shape[0]):\n",
    "        conf_matrix[int(l[i]), int(results[i])] += 1\n",
    "        \n",
    "    print('Confusion matrix: \\n', conf_matrix)"
   ]
  },
  {
   "cell_type": "code",
   "execution_count": 13,
   "metadata": {},
   "outputs": [
    {
     "name": "stdout",
     "output_type": "stream",
     "text": [
      "One versus All classifier performance on training data: \n",
      "\n",
      "Error rate:  0.14228333333333334\n",
      "Confusion matrix: \n",
      " [[5682    7   18   14   24   43   64    4   61    6]\n",
      " [   2 6548   40   15   19   31   14   12   55    6]\n",
      " [  99  264 4792  149  108   11  234   91  192   18]\n",
      " [  42  167  176 5158   32  125   56  115  135  125]\n",
      " [  10   99   42    6 5212   50   39   23   59  302]\n",
      " [ 164   95   28  431  105 3992  192   36  235  143]\n",
      " [ 108   74   61    1   70   90 5476    0   35    3]\n",
      " [  55  189   37   47  170    9    2 5426   10  320]\n",
      " [  75  494   63  226  105  222   56   20 4410  180]\n",
      " [  68   60   20  117  371   12    4  492   38 4767]]\n"
     ]
    }
   ],
   "source": [
    "print('One versus All classifier performance on training data: \\n')\n",
    "evaluate(f_hat_onevall, trainX, trainY, K)"
   ]
  },
  {
   "cell_type": "code",
   "execution_count": 14,
   "metadata": {},
   "outputs": [
    {
     "name": "stdout",
     "output_type": "stream",
     "text": [
      "One versus One classifier performance on training data: \n",
      "\n",
      "Error rate:  0.2252\n",
      "Confusion matrix: \n",
      " [[5551    7    5    9    5   10   41    0  295    0]\n",
      " [   0 6659    4    8    1    0    2    0   64    4]\n",
      " [  19  406 4166  237   41    0  159    6  908   16]\n",
      " [  15  446   42 4359    5    1   32    4 1204   23]\n",
      " [  14  183   18    2 4259    0  113    1  125 1127]\n",
      " [  67  236   21  359   55  217  230    0 4150   86]\n",
      " [  15   55   12    1    4    1 5702    0  128    0]\n",
      " [  24  338   40   93   85    0   10 4618  318  739]\n",
      " [   5  230    1    9    2    0   36    0 5564    4]\n",
      " [  15   84   16   33   32    0    6   15  355 5393]]\n"
     ]
    }
   ],
   "source": [
    "print('One versus One classifier performance on training data: \\n')\n",
    "evaluate(f_hat_onevone, trainX, trainY, K)"
   ]
  },
  {
   "cell_type": "code",
   "execution_count": 15,
   "metadata": {},
   "outputs": [
    {
     "name": "stdout",
     "output_type": "stream",
     "text": [
      "One versus All classifier performance on test data: \n",
      "\n",
      "Error rate:  0.1398\n",
      "Confusion matrix: \n",
      " [[ 944    0    1    2    2    7   14    2    7    1]\n",
      " [   0 1107    2    2    3    1    5    1   14    0]\n",
      " [  18   54  813   26   15    0   42   22   37    5]\n",
      " [   4   18   23  879    5   17    9   21   22   12]\n",
      " [   0   22    6    1  881    5   10    2   11   44]\n",
      " [  23   18    3   72   24  659   23   14   39   17]\n",
      " [  18   10    9    0   22   17  875    0    7    0]\n",
      " [   5   40   16    6   26    0    1  884    0   50]\n",
      " [  14   46   11   30   27   40   15   12  759   20]\n",
      " [  15   11    2   17   80    1    1   77    4  801]]\n"
     ]
    }
   ],
   "source": [
    "print('One versus All classifier performance on test data: \\n')\n",
    "evaluate(f_hat_onevall, testX, testY, K)"
   ]
  },
  {
   "cell_type": "code",
   "execution_count": 16,
   "metadata": {},
   "outputs": [
    {
     "name": "stdout",
     "output_type": "stream",
     "text": [
      "One versus One classifier performance on test data: \n",
      "\n",
      "Error rate:  0.2315\n",
      "Confusion matrix: \n",
      " [[ 932    1    1    2    1    1   11    0   31    0]\n",
      " [   0 1123    1    3    0    0    1    0    7    0]\n",
      " [   8   87  680   41    8    0   25    1  181    1]\n",
      " [   3   63    6  715    0    0    4    0  214    5]\n",
      " [   2   34    6    1  703    0   26    0   24  186]\n",
      " [  10   32    2   62    6   40   31    0  695   14]\n",
      " [   8    9    5    0    3    0  912    0   21    0]\n",
      " [   3   63   10   15   15    0    2  744   64  112]\n",
      " [   4   24    1    4    4    0   10    0  926    1]\n",
      " [   6   14    0    6    4    0    1    0   68  910]]\n"
     ]
    }
   ],
   "source": [
    "print('One versus One classifier performance on test data: \\n')\n",
    "evaluate(f_hat_onevone, testX, testY, K)"
   ]
  },
  {
   "cell_type": "markdown",
   "metadata": {},
   "source": [
    "### (c) Comments"
   ]
  },
  {
   "cell_type": "markdown",
   "metadata": {},
   "source": [
    "The models generalized well on the test data: the error rate doesn't vary too much between training and test, hence the models didn't overfit to the training data"
   ]
  },
  {
   "cell_type": "markdown",
   "metadata": {},
   "source": [
    "Looking at the test data, the digits that are:\n",
    "* easier to classify are 1s and 6s, since they have the lowest percentage of \"false negatives\" (1s/6s that are classified as not 1s/6s)\n",
    "* harder to classify are 5s by far, with the lowest percentage of true positives"
   ]
  },
  {
   "cell_type": "markdown",
   "metadata": {},
   "source": [
    "## Randomized Feature Based LS Classifier"
   ]
  },
  {
   "cell_type": "markdown",
   "metadata": {},
   "source": [
    "### (a) Implementation"
   ]
  },
  {
   "cell_type": "code",
   "execution_count": 17,
   "metadata": {},
   "outputs": [],
   "source": [
    "L = 1000\n",
    "Wb = np.random.normal(0, 1, size=(L, 784+1))\n",
    "\n",
    "\"\"\"\n",
    "Randomoized Feature Based LS CLassifier\n",
    "    :param X: the training data\n",
    "    :param y: the training labels\n",
    "    :param L: dimension of the \"feature space\"\n",
    "    :param g: real valued function to compute the feature mappings\n",
    "    :param classifier_type: either \"one_vs_one\" or \"one_vs_all\"\n",
    "    :param K: number of classes\n",
    "    :return: f_hat the respective classifier trained on the feature mappings \n",
    "\"\"\"\n",
    "def randomized_features_classifier(X, y, Wb, g, classifier_type, k):\n",
    "    N, m = X.shape\n",
    "    X_one = ones_padding(X)\n",
    "    h_X = g(X_one @ Wb.T)\n",
    "    if classifier_type == 'one_vs_one':\n",
    "        return one_vs_one_classifier(h_X, y, K, pad=False)\n",
    "    elif classifier_type == 'one_vs_all':\n",
    "        return one_vs_all_classifier(h_X, y, K, pad=False)\n",
    "    else:\n",
    "        raise ValueError(\"classifier type not valid\")\n"
   ]
  },
  {
   "cell_type": "markdown",
   "metadata": {},
   "source": [
    "### (b) Training"
   ]
  },
  {
   "cell_type": "code",
   "execution_count": 18,
   "metadata": {},
   "outputs": [],
   "source": [
    "def g1_identity(x):\n",
    "    return x\n",
    "\n",
    "def g2_sigmoid(x):\n",
    "    return 1/(1 + np.exp(-x))\n",
    "\n",
    "def g3_sinusoidal(x):\n",
    "    return np.sin(x)\n",
    "\n",
    "def g4_ReLU(x):\n",
    "    return np.maximum(x, 0)\n",
    "\n",
    "g = [g1_identity, g2_sigmoid, g3_sinusoidal, g4_ReLU]"
   ]
  },
  {
   "cell_type": "markdown",
   "metadata": {},
   "source": [
    "#### One vs All Classifier"
   ]
  },
  {
   "cell_type": "code",
   "execution_count": 20,
   "metadata": {},
   "outputs": [],
   "source": [
    "f_ovall = []\n",
    "for i in range(len(g)):\n",
    "    f_ovall.append(randomized_features_classifier(trainX, trainY, Wb, g[i], 'one_vs_all', K))"
   ]
  },
  {
   "cell_type": "markdown",
   "metadata": {},
   "source": [
    "#### One vs One Classifier"
   ]
  },
  {
   "cell_type": "code",
   "execution_count": 21,
   "metadata": {},
   "outputs": [],
   "source": [
    "f_ovone = []\n",
    "for i in range(len(g)):\n",
    "    f_ovone.append(randomized_features_classifier(trainX, trainY, Wb, g[i], 'one_vs_one', K))"
   ]
  },
  {
   "cell_type": "markdown",
   "metadata": {},
   "source": [
    "### (c) Evaluation"
   ]
  },
  {
   "cell_type": "code",
   "execution_count": 22,
   "metadata": {},
   "outputs": [],
   "source": [
    "def evaluate_with_feature(f_hat, g, Wb, data, labels, k):\n",
    "    N, m = data.shape\n",
    "    data_one = ones_padding(data)\n",
    "    h_data = g(data_one @ Wb.T)\n",
    "    evaluate(f_hat, h_data, labels, k)"
   ]
  },
  {
   "cell_type": "code",
   "execution_count": 23,
   "metadata": {},
   "outputs": [
    {
     "name": "stdout",
     "output_type": "stream",
     "text": [
      "One versus All randomized feature classifier performance: \n",
      "\n",
      "\n",
      "With g_1(x):\n",
      "\n",
      "\tOn training data:\n",
      "\n",
      "Error rate:  0.14226666666666668\n",
      "Confusion matrix: \n",
      " [[5682    7   18   14   24   43   64    4   61    6]\n",
      " [   2 6548   40   15   19   31   14   12   55    6]\n",
      " [  99  264 4792  149  108   11  234   91  192   18]\n",
      " [  42  167  176 5158   32  125   56  115  135  125]\n",
      " [  10   99   42    6 5212   50   39   23   59  302]\n",
      " [ 164   95   28  432  105 3991  192   36  235  143]\n",
      " [ 108   74   61    1   70   90 5476    0   35    3]\n",
      " [  55  189   37   47  170    9    2 5426   10  320]\n",
      " [  75  493   63  226  105  221   56   20 4412  180]\n",
      " [  68   60   20  117  371   12    4  492   38 4767]]\n",
      "\n",
      "\tOn test data:\n",
      "\n",
      "Error rate:  0.1397\n",
      "Confusion matrix: \n",
      " [[ 944    0    1    2    2    7   14    2    7    1]\n",
      " [   0 1107    2    2    3    1    5    1   14    0]\n",
      " [  18   54  813   26   15    0   42   22   37    5]\n",
      " [   4   17   23  880    5   17    9   21   22   12]\n",
      " [   0   22    6    1  881    5   10    2   11   44]\n",
      " [  23   18    3   72   24  659   23   14   39   17]\n",
      " [  18   10    9    0   22   17  875    0    7    0]\n",
      " [   5   40   16    6   26    0    1  884    0   50]\n",
      " [  14   46   11   30   27   40   15   12  759   20]\n",
      " [  15   11    2   17   80    1    1   77    4  801]]\n",
      "\n",
      "---------------------------------\n",
      "\n",
      "With g_2(x):\n",
      "\n",
      "\tOn training data:\n",
      "\n",
      "Error rate:  0.06938333333333334\n",
      "Confusion matrix: \n",
      " [[5794    0    6    9   12   15   36    7   41    3]\n",
      " [   2 6605   45   13   15   18   12    9   17    6]\n",
      " [  54   28 5445   68   79   11   59   79  123   12]\n",
      " [  29   17  131 5515   15  146   26   66  119   67]\n",
      " [   7   32   21    4 5504   13   49   12   30  170]\n",
      " [  67   25   26  153   36 4896   94   27   57   40]\n",
      " [  38   12   28    4   22   93 5701    0   19    1]\n",
      " [  27   63   54   30   79   10    5 5833   15  149]\n",
      " [  24   60   73  142   47  140   41   24 5213   87]\n",
      " [  39   29   23   72  178   32    5  173   67 5331]]\n",
      "\n",
      "\tOn test data:\n",
      "\n",
      "Error rate:  0.0688\n",
      "Confusion matrix: \n",
      " [[ 966    1    1    0    0    2    7    2    1    0]\n",
      " [   0 1119    2    4    1    0    5    0    4    0]\n",
      " [  10    0  937   13    7    3   12   12   34    4]\n",
      " [   5    1   14  924    2   18    2   14   19   11]\n",
      " [   1    3    7    3  911    2    7    1    9   38]\n",
      " [  11    1    2   32    5  800   16    9   11    5]\n",
      " [  12    4    3    1    6   11  918    0    3    0]\n",
      " [   2   14   19    4   12    0    0  951    2   24]\n",
      " [   8    1   11   18    9   23   10   10  876    8]\n",
      " [   8    9    2   13   27    5    3   24    8  910]]\n",
      "\n",
      "---------------------------------\n",
      "\n",
      "With g_3(x):\n",
      "\n",
      "\tOn training data:\n",
      "\n",
      "Error rate:  0.7981833333333334\n",
      "Confusion matrix: \n",
      " [[ 894 1725  411  398  467  398  397  471  403  359]\n",
      " [ 269 4489  280  266  262  207  232  256  255  226]\n",
      " [ 414 1656  912  453  478  433  384  474  394  360]\n",
      " [ 478 1756  471  829  430  420  415  477  449  406]\n",
      " [ 443 1604  439  435  886  379  426  459  394  377]\n",
      " [ 412 1553  439  365  401  724  385  392  390  360]\n",
      " [ 424 1688  406  409  410  417  849  485  438  392]\n",
      " [ 452 1780  477  433  467  438  424  965  438  391]\n",
      " [ 401 1720  436  412  447  365  421  468  780  401]\n",
      " [ 459 1694  439  410  472  373  421  463  437  781]]\n",
      "\n",
      "\tOn test data:\n",
      "\n",
      "Error rate:  0.85\n",
      "Confusion matrix: \n",
      " [[ 89 270  86  78  85  61  76  88  61  86]\n",
      " [ 42 742  55  40  44  39  49  45  34  45]\n",
      " [ 75 324  87  82  72  64  93  83  75  77]\n",
      " [ 87 286  91  94  65  58  82  88  73  86]\n",
      " [ 79 270  87  61  96 101  77  72  65  74]\n",
      " [ 74 246  72  68  86  73  59  75  66  73]\n",
      " [ 76 289  77  88  82  68  80  80  60  58]\n",
      " [ 86 306  63  79 101  86  72  97  70  68]\n",
      " [ 95 271  75  71  97  64  73  69  73  86]\n",
      " [ 85 282  90  83  82  77  62  83  96  69]]\n",
      "\n",
      "---------------------------------\n",
      "\n",
      "With g_4(x):\n",
      "\n",
      "\tOn training data:\n",
      "\n",
      "Error rate:  0.05515\n",
      "Confusion matrix: \n",
      " [[5795    1    8    4    8   17   39    8   39    4]\n",
      " [   1 6623   34    9   13   15   13   11   20    3]\n",
      " [  32   31 5558   58   51   13   31   80   91   13]\n",
      " [  16   19   79 5656    8  117   18   55   98   65]\n",
      " [  11   31   16    7 5519    9   43    9   31  166]\n",
      " [  28   20   12   94   25 5071   82   16   37   36]\n",
      " [  31    9   17    0   21   72 5745    0   20    3]\n",
      " [  18   62   45   23   60    4    3 5872   16  162]\n",
      " [  13   60   42   96   36   81   40   12 5387   84]\n",
      " [  25   25   11   75  135   30    2  135   46 5465]]\n",
      "\n",
      "\tOn test data:\n",
      "\n",
      "Error rate:  0.0577\n",
      "Confusion matrix: \n",
      " [[ 961    1    0    0    1    3   10    1    3    0]\n",
      " [   0 1121    2    2    1    0    4    0    5    0]\n",
      " [   7    3  944   12    4    0    7   13   37    5]\n",
      " [   1    3   11  938    2   23    1   12   15    4]\n",
      " [   2    2    4    0  920    2    7    3    8   34]\n",
      " [   8    1    2   12    5  829   12    7   11    5]\n",
      " [  11    3    1    0   11    8  922    0    2    0]\n",
      " [   1   16   19    2    3    1    1  956    1   28]\n",
      " [   6    2    6   10    8   13    6    5  907   11]\n",
      " [   6    7    1   16   26    3    2   14    9  925]]\n",
      "\n",
      "---------------------------------\n"
     ]
    }
   ],
   "source": [
    "print('One versus All randomized feature classifier performance: \\n')\n",
    "for i in range(len(f_ovall)):\n",
    "    print(f'\\nWith g_{i+1}(x):\\n')\n",
    "    print('\\tOn training data:\\n')\n",
    "    evaluate_with_feature(f_ovall[i], g[i], Wb, trainX, trainY, K)\n",
    "    print('\\n\\tOn test data:\\n')\n",
    "    evaluate_with_feature(f_ovall[i], g[i], Wb, testX, testY, K)\n",
    "    print('\\n---------------------------------')"
   ]
  },
  {
   "cell_type": "code",
   "execution_count": 24,
   "metadata": {},
   "outputs": [
    {
     "name": "stdout",
     "output_type": "stream",
     "text": [
      "One versus One randomized feature classifier performance: \n",
      "\n",
      "\n",
      "With g_1(x):\n",
      "\n",
      "\tOn training data:\n",
      "\n",
      "Error rate:  0.06213333333333333\n",
      "Confusion matrix: \n",
      " [[5805    3   15    8   11   20   22    6   32    1]\n",
      " [   2 6623   36   17    7   16    2   11   21    7]\n",
      " [  51   69 5521   49   57   20   41   44   93   13]\n",
      " [  26   42  120 5580    8  160   19   48   89   39]\n",
      " [  14   18   20    5 5586   11   14   16    8  150]\n",
      " [  43   46   39  138   22 4970   93   10   47   13]\n",
      " [  27   16   35    2   30   84 5693    0   30    1]\n",
      " [   8   76   54    7   68   10    0 5883    5  154]\n",
      " [  35  192   43  108   48  143   38   25 5154   65]\n",
      " [  21   14   18   83  155   31    3  137   30 5457]]\n",
      "\n",
      "\tOn test data:\n",
      "\n",
      "Error rate:  0.0696\n",
      "Confusion matrix: \n",
      " [[ 962    0    1    1    0    6    7    3    0    0]\n",
      " [   0 1120    3    3    1    1    4    1    2    0]\n",
      " [   9   17  938   12   10    5   10    9   22    0]\n",
      " [   8    1   19  927    2   19    1    7   21    5]\n",
      " [   3    2    8    2  929    1    7    4    3   23]\n",
      " [   6    5    3   30    8  801   17    2   15    5]\n",
      " [   6    5   12    0    5   19  908    1    2    0]\n",
      " [   1   15   17    3   10    1    0  957    1   23]\n",
      " [   7   17    8   22    9   37   10   10  841   13]\n",
      " [   6    5    1   11   28   12    0   22    3  921]]\n",
      "\n",
      "---------------------------------\n",
      "\n",
      "With g_2(x):\n",
      "\n",
      "\tOn training data:\n",
      "\n",
      "Error rate:  0.029916666666666668\n",
      "Confusion matrix: \n",
      " [[5867    1    5    3    6    3   14    4   17    3]\n",
      " [   2 6668   27    6    7    2    1    6   15    8]\n",
      " [  20   10 5766   31   29    8   18   29   42    5]\n",
      " [  12    5   75 5845    2   70    4   29   67   22]\n",
      " [  10   11   18    2 5692    1   12    9    5   82]\n",
      " [  28    7   15   73   12 5213   38    3   20   12]\n",
      " [  17    4   15    2    6   42 5819    0   13    0]\n",
      " [   5   20   45    4   30    1    2 6085    5   68]\n",
      " [  11   19   38   68   16   56   16   11 5594   22]\n",
      " [  16   11    7   48   85   21    1   74   30 5656]]\n",
      "\n",
      "\tOn test data:\n",
      "\n",
      "Error rate:  0.0441\n",
      "Confusion matrix: \n",
      " [[ 967    1    2    0    0    5    3    2    0    0]\n",
      " [   0 1126    3    2    0    0    1    1    2    0]\n",
      " [  10    1  974    5    7    4    8    9   14    0]\n",
      " [   1    1   15  960    0   10    0    5   11    7]\n",
      " [   1    0   10    0  946    1    5    3    2   14]\n",
      " [   8    0    2   24    4  829    9    2   11    3]\n",
      " [  12    3    2    0    3    5  931    0    2    0]\n",
      " [   3    9   22    4    7    0    0  967    1   15]\n",
      " [   6    0    6   12    6   12    4    7  916    5]\n",
      " [   4    5    2    6   22   10    0    9    8  943]]\n",
      "\n",
      "---------------------------------\n",
      "\n",
      "With g_3(x):\n",
      "\n",
      "\tOn training data:\n",
      "\n",
      "Error rate:  0.7874833333333333\n",
      "Confusion matrix: \n",
      " [[1071 1180  485  456  540  453  416  523  418  381]\n",
      " [ 366 4034  334  317  321  265  292  305  273  235]\n",
      " [ 505 1143 1072  496  519  475  429  499  425  395]\n",
      " [ 567 1224  570  976  484  476  442  485  499  408]\n",
      " [ 536 1116  508  494 1019  411  444  482  436  396]\n",
      " [ 495 1106  499  425  438  873  389  410  415  371]\n",
      " [ 516 1179  518  468  490  455  900  508  488  396]\n",
      " [ 564 1209  562  484  526  484  461 1071  477  427]\n",
      " [ 499 1196  519  467  530  400  440  509  910  381]\n",
      " [ 562 1194  502  480  541  418  465  491  471  825]]\n",
      "\n",
      "\tOn test data:\n",
      "\n",
      "Error rate:  0.8563\n",
      "Confusion matrix: \n",
      " [[103 196  94  89 105  63  88  93  71  78]\n",
      " [ 75 620  56  58  65  47  54  59  44  57]\n",
      " [ 98 220  94  89  91  82  97  91  89  81]\n",
      " [102 198  97 107  90  68  92  92  80  84]\n",
      " [ 93 192 110  63  96  96  83  78  84  87]\n",
      " [ 90 181  80  71  98  76  68  84  78  66]\n",
      " [ 96 207  86 106  92  79  94  79  66  53]\n",
      " [124 223  90  79 116  90  77  91  66  72]\n",
      " [117 193  88  70  99  79  79  80  85  84]\n",
      " [106 203 100  99  98  80  74  93  85  71]]\n",
      "\n",
      "---------------------------------\n",
      "\n",
      "With g_4(x):\n",
      "\n",
      "\tOn training data:\n",
      "\n",
      "Error rate:  0.02205\n",
      "Confusion matrix: \n",
      " [[5872    1    7    2    7    4   13    2   14    1]\n",
      " [   2 6687   19    5    6    1    1   10    6    5]\n",
      " [  17    6 5816   20   24    3    9   32   27    4]\n",
      " [   7    4   60 5916    2   47    3   21   55   16]\n",
      " [   6    7    6    3 5740    0    8   11    4   57]\n",
      " [  15    2    7   35    6 5291   33    4   17   11]\n",
      " [  14    3    7    0   11   26 5850    0    7    0]\n",
      " [   5   25   30    5   28    3    1 6103    5   60]\n",
      " [   8   16   28   37   11   34   17    9 5675   16]\n",
      " [  12    6    5   40   70   14    1   52   22 5727]]\n",
      "\n",
      "\tOn test data:\n",
      "\n",
      "Error rate:  0.0349\n",
      "Confusion matrix: \n",
      " [[ 969    0    2    0    1    1    3    2    2    0]\n",
      " [   0 1123    2    2    1    1    3    0    3    0]\n",
      " [   6    0  993    6    3    2    3    8   10    1]\n",
      " [   2    0    7  967    0   15    0    6    8    5]\n",
      " [   2    1    7    0  952    0    3    0    2   15]\n",
      " [   6    1    2   17    1  851    6    2    6    0]\n",
      " [   8    2    2    0    3    7  933    0    3    0]\n",
      " [   0    6   18    2    4    1    0  980    4   13]\n",
      " [   2    1    5    6    5    6    6    9  928    6]\n",
      " [   4    5    1   12   17    3    0    6    6  955]]\n",
      "\n",
      "---------------------------------\n"
     ]
    }
   ],
   "source": [
    "print('One versus One randomized feature classifier performance: \\n')\n",
    "for i in range(len(f_ovall)):\n",
    "    print(f'\\nWith g_{i+1}(x):\\n')\n",
    "    print('\\tOn training data:\\n')\n",
    "    evaluate_with_feature(f_ovone[i], g[i], Wb, trainX, trainY, K)\n",
    "    print('\\n\\tOn test data:\\n')\n",
    "    evaluate_with_feature(f_ovone[i], g[i], Wb, testX, testY, K)\n",
    "    print('\\n---------------------------------')"
   ]
  },
  {
   "cell_type": "markdown",
   "metadata": {},
   "source": [
    "Pretty much every (model, nonlinear-function) combination seems to keep on generalizing well on test data. Out of the 2, One versus one classifiers tend to do a little bit poorly on test data compared to training data, but just a minimal difference"
   ]
  },
  {
   "cell_type": "markdown",
   "metadata": {},
   "source": [
    "### (d) Feature number variation"
   ]
  },
  {
   "cell_type": "markdown",
   "metadata": {},
   "source": [
    "I will continue this analysis only considering the best and fastest to compute non-linear function: ReLU"
   ]
  },
  {
   "cell_type": "code",
   "execution_count": 25,
   "metadata": {},
   "outputs": [],
   "source": [
    "Ls = [800, 900, 1000, 1100, 1200]\n",
    "Ws = []\n",
    "for l in Ls:\n",
    "    Ws.append(np.random.normal(0, 1, size=(l, 784+1)))\n",
    "f_ovall_new = []\n",
    "f_ovone_new = []\n",
    "for w in Ws:\n",
    "    f_ovall_new.append(randomized_features_classifier(trainX, trainY, w, g[3], 'one_vs_all', K))\n",
    "    f_ovone_new.append(randomized_features_classifier(trainX, trainY, w, g[3], 'one_vs_one', K))"
   ]
  },
  {
   "cell_type": "code",
   "execution_count": 26,
   "metadata": {},
   "outputs": [],
   "source": [
    "N, m = testX.shape\n",
    "testX_one = ones_padding(testX)\n",
    "\n",
    "h_testX = []\n",
    "for w in Ws:\n",
    "    h_testX.append(g[3](testX_one @ w.T))\n",
    "\n",
    "def error_rate(f_hat, data, labels):\n",
    "    results = np.apply_along_axis(f_hat, 1, data)\n",
    "    new_labels = np.squeeze(labels)\n",
    "    return np.sum(results != new_labels)/data.shape[0]\n",
    "\n",
    "errors = np.zeros((len(Ws), 2))\n",
    "for i in range(len(Ws)):\n",
    "    for j in range(2):\n",
    "        errors[i][0] = error_rate(f_ovall_new[i], h_testX[i], testY)\n",
    "        errors[i][1] = error_rate(f_ovone_new[i], h_testX[i], testY)"
   ]
  },
  {
   "cell_type": "code",
   "execution_count": 27,
   "metadata": {},
   "outputs": [
    {
     "data": {
      "image/png": "[encoded data removed]",
      "text/plain": [
       "<Figure size 432x288 with 1 Axes>"
      ]
     },
     "metadata": {
      "needs_background": "light"
     },
     "output_type": "display_data"
    }
   ],
   "source": [
    "import matplotlib.pyplot as plt\n",
    "\n",
    "plt.plot(Ls, errors[:, 0], 'r')\n",
    "plt.plot(Ls, errors[:, 1], 'g')\n",
    "plt.legend(['One vs All', 'One vs One'])\n",
    "\n",
    "plt.title('Error rate across L')\n",
    "plt.xlabel('L')\n",
    "plt.ylabel('Error rate')\n",
    "plt.show()"
   ]
  },
  {
   "cell_type": "markdown",
   "metadata": {},
   "source": [
    "From what it can be easily seen from the plot, adding more features tends to decrease the error rate of the classifier"
   ]
  }
 ],
 "metadata": {
  "kernelspec": {
   "display_name": "Python 3",
   "language": "python",
   "name": "python3"
  },
  "language_info": {
   "codemirror_mode": {
    "name": "ipython",
    "version": 3
   },
   "file_extension": ".py",
   "mimetype": "text/x-python",
   "name": "python",
   "nbconvert_exporter": "python",
   "pygments_lexer": "ipython3",
   "version": "3.7.9"
  }
 },
 "nbformat": 4,
 "nbformat_minor": 4
}
